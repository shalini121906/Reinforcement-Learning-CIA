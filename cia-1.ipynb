{
 "cells": [
  {
   "cell_type": "code",
   "execution_count": 1,
   "id": "3ea4a91e",
   "metadata": {},
   "outputs": [],
   "source": [
    "import numpy as np\n",
    "import random\n",
    "\n"
   ]
  },
  {
   "cell_type": "code",
   "execution_count": 2,
   "id": "56faf8fa",
   "metadata": {},
   "outputs": [],
   "source": [
    "articles = [100, 120, 80, 60, 50, 40, 30, 20, 10, 5]\n",
    "aligned_articles = [0, 1, 2]  # Indices of aligned articles\n"
   ]
  },
  {
   "cell_type": "code",
   "execution_count": 3,
   "id": "edea9722",
   "metadata": {},
   "outputs": [],
   "source": [
    "# Number of arms (articles)\n",
    "k = len(articles)\n"
   ]
  },
  {
   "cell_type": "code",
   "execution_count": 4,
   "id": "9fb5d8b6",
   "metadata": {},
   "outputs": [],
   "source": [
    "# Number of rounds (time steps)\n",
    "num_rounds = 1000"
   ]
  },
  {
   "cell_type": "code",
   "execution_count": 5,
   "id": "ab7a54c4",
   "metadata": {},
   "outputs": [],
   "source": [
    "# Initialize variables for tracking views and selections\n",
    "views = np.zeros(k)\n",
    "selections = np.zeros(k)\n",
    "total_views = 0\n"
   ]
  },
  {
   "cell_type": "code",
   "execution_count": 6,
   "id": "46af62a6",
   "metadata": {},
   "outputs": [],
   "source": [
    "# Epsilon-Greedy parameters\n",
    "epsilon = 0.1\n",
    "# UCB parameters\n",
    "ucb_c = 2\n",
    "# Thompson Sampling parameters\n",
    "alpha = np.ones(k)\n",
    "beta = np.ones(k)"
   ]
  },
  {
   "cell_type": "code",
   "execution_count": 7,
   "id": "fdadbdd4",
   "metadata": {},
   "outputs": [],
   "source": [
    "def epsilon_greedy(epsilon):\n",
    "    if random.random() < epsilon:\n",
    "        # Exploration: choose a random article\n",
    "        arm = random.randint(0, k - 1)\n",
    "    else:\n",
    "        # Exploitation: choose the best-performing article\n",
    "        arm = np.argmax(views / (selections + 1e-5))\n",
    "    return arm"
   ]
  },
  {
   "cell_type": "code",
   "execution_count": 8,
   "id": "1613e701",
   "metadata": {},
   "outputs": [],
   "source": [
    "def ucb(ucb_c, t):\n",
    "    ucb_values = views / (selections + 1e-5) + ucb_c * np.sqrt(np.log(t + 1) / (selections + 1e-5))\n",
    "    return np.argmax(ucb_values)"
   ]
  },
  {
   "cell_type": "code",
   "execution_count": 9,
   "id": "1ea027ab",
   "metadata": {},
   "outputs": [],
   "source": [
    "def thompson_sampling():\n",
    "    samples = [np.random.beta(alpha[i], beta[i]) for i in range(k)]\n",
    "    return np.argmax(samples)"
   ]
  },
  {
   "cell_type": "code",
   "execution_count": 10,
   "id": "49020356",
   "metadata": {},
   "outputs": [
    {
     "name": "stdout",
     "output_type": "stream",
     "text": [
      "Total Views: 119144.06030146807\n",
      "Views per Article: [1.76517434e+02 1.18376296e+05 2.27009808e+02 1.27562100e+02\n",
      " 1.31743185e+02 6.16552374e+01 0.00000000e+00 1.17753885e+01\n",
      " 3.15007611e+01 0.00000000e+00]\n",
      "Selections per Article: [  2. 987.   3.   2.   2.   1.   0.   1.   2.   0.]\n"
     ]
    }
   ],
   "source": [
    "for t in range(num_rounds):\n",
    "    # Choose an arm using one of the strategies\n",
    "    # arm = epsilon_greedy(epsilon)\n",
    "    # arm = ucb(ucb_c, t)\n",
    "    arm = thompson_sampling()\n",
    "    \n",
    "    # Simulate the reward (views)\n",
    "    reward = np.random.normal(articles[arm], 10)\n",
    "    \n",
    "    # Update the total views and selections\n",
    "    total_views += reward\n",
    "    views[arm] += reward\n",
    "    selections[arm] += 1\n",
    "    \n",
    "    # Update Thompson Sampling parameters\n",
    "    if arm in aligned_articles:\n",
    "        alpha[arm] += reward / 100\n",
    "        beta[arm] += (100 - reward) / 100\n",
    "    else:\n",
    "        alpha[arm] += reward / 100\n",
    "        beta[arm] += (100 - reward) / 100\n",
    "    beta = np.maximum(beta, 1e-5)\n",
    "\n",
    "# Print the results\n",
    "print(\"Total Views:\", total_views)\n",
    "print(\"Views per Article:\", views)\n",
    "print(\"Selections per Article:\", selections)"
   ]
  },
  {
   "cell_type": "code",
   "execution_count": null,
   "id": "285ba6b3",
   "metadata": {},
   "outputs": [],
   "source": []
  }
 ],
 "metadata": {
  "kernelspec": {
   "display_name": "Python 3 (ipykernel)",
   "language": "python",
   "name": "python3"
  },
  "language_info": {
   "codemirror_mode": {
    "name": "ipython",
    "version": 3
   },
   "file_extension": ".py",
   "mimetype": "text/x-python",
   "name": "python",
   "nbconvert_exporter": "python",
   "pygments_lexer": "ipython3",
   "version": "3.10.9"
  }
 },
 "nbformat": 4,
 "nbformat_minor": 5
}
